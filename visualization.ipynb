{
 "cells": [
  {
   "cell_type": "code",
   "execution_count": 1,
   "id": "6bf596ce",
   "metadata": {},
   "outputs": [],
   "source": [
    "import pandas as pd\n",
    "import numpy as np\n",
    "import pathlib\n",
    "import pickle\n",
    "import torch as t\n",
    "import sys\n",
    "import matplotlib.pyplot as plt\n",
    "sys.path.append('C:\\\\Users\\\\keren\\\\Projects\\\\pytorch-sgns')\n",
    "import ai2v_model\n",
    "\n",
    "import numpy as np\n",
    "from sklearn.manifold import TSNE"
   ]
  },
  {
   "cell_type": "code",
   "execution_count": 12,
   "id": "e527e3a6",
   "metadata": {},
   "outputs": [],
   "source": [
    "H_FOLD = 'C:/Users/keren/Projects/pytorch-sgns'\n",
    "DATASET = 'movielens'\n",
    "\n",
    "DATA_FOLD = f'corpus/{DATASET}_llo'\n",
    "\n",
    "AI2V_OUT_FOLD = f'output/{DATASET}_ai2v_llo'\n",
    "I2V_OUT_FOLD = f'output/{DATASET}_i2v_llo'\n",
    "BPR_OUT_FOLD = f'output/{DATASET}_bpr_llo'\n",
    "LGCN_OUT_FOLD = f'output/{DATASET}_lightgcn_llo'\n",
    "NCF_OUT_FOLD = f'output/{DATASET}_ncf_llo'\n",
    "\n",
    "AI2V_MODEL_FILE = f'{H_FOLD}/{AI2V_OUT_FOLD}/model.pt'\n",
    "I2V_MODEL_FILE = f'{H_FOLD}/{I2V_OUT_FOLD}/model.pt'"
   ]
  },
  {
   "cell_type": "markdown",
   "id": "ca164a05",
   "metadata": {},
   "source": [
    "## Performance on cold start items"
   ]
  },
  {
   "cell_type": "code",
   "execution_count": 3,
   "id": "a4879251",
   "metadata": {},
   "outputs": [],
   "source": [
    "ic = pickle.load(pathlib.Path(f'{H_FOLD}/{DATA_FOLD}', 'ic.dat').open('rb'))\n",
    "idx2item = pickle.load(pathlib.Path(f'{H_FOLD}/{DATA_FOLD}', 'idx2item.dat').open('rb'))"
   ]
  },
  {
   "cell_type": "code",
   "execution_count": 55,
   "id": "34e5480e",
   "metadata": {},
   "outputs": [],
   "source": [
    "k = 20\n",
    "metric = 'hr'"
   ]
  },
  {
   "cell_type": "code",
   "execution_count": 56,
   "id": "1a1ef859",
   "metadata": {},
   "outputs": [],
   "source": [
    "# AI2V_MET_FILE = f'{H_FOLD}/{AI2V_OUT_FOLD}/ai2v_netflix_{k}_{metric}.csv'\n",
    "# I2V_MET_FILE = f'{H_FOLD}/{I2V_OUT_FOLD}/i2v_netflix_{k}_{metric}.csv'"
   ]
  },
  {
   "cell_type": "code",
   "execution_count": 57,
   "id": "37428fcc",
   "metadata": {},
   "outputs": [],
   "source": [
    "AI2V_MET_FILE = f'{H_FOLD}/{AI2V_OUT_FOLD}/{metric}_{k}.csv'\n",
    "I2V_MET_FILE = f'{H_FOLD}/{I2V_OUT_FOLD}/{metric}_{k}.csv'"
   ]
  },
  {
   "cell_type": "code",
   "execution_count": 58,
   "id": "bf93d554",
   "metadata": {},
   "outputs": [],
   "source": [
    "met_col_i2v = f'{metric}_i2v'\n",
    "met_col_ai2v = f'{metric}_ai2v'\n",
    "\n",
    "df_i2v = pd.read_csv(I2V_MET_FILE, names=['u_id','i_id',met_col_i2v])\n",
    "df_ai2v = pd.read_csv(AI2V_MET_FILE, names=['u_id','i_id',met_col_ai2v])\n",
    "\n",
    "df_i2v['i_name'] = np.array(idx2item)[df_i2v['i_id'].tolist()]\n",
    "df_ai2v['i_name'] = np.array(idx2item)[df_ai2v['i_id'].tolist()]\n",
    "\n",
    "df_i2v['item_cnt'] = df_i2v['i_name'].map(ic)\n",
    "df_ai2v['item_cnt'] = df_ai2v['i_name'].map(ic)"
   ]
  },
  {
   "cell_type": "code",
   "execution_count": 59,
   "id": "6096b317",
   "metadata": {},
   "outputs": [
    {
     "data": {
      "image/png": "[encoded data removed]",
      "text/plain": [
       "<Figure size 432x288 with 1 Axes>"
      ]
     },
     "metadata": {
      "needs_background": "light"
     },
     "output_type": "display_data"
    }
   ],
   "source": [
    "plt.hist(df_ai2v[df_ai2v[met_col_ai2v]==1]['item_cnt'], bins=100, label='ai2v')\n",
    "plt.hist(df_i2v[df_i2v[met_col_i2v]==1]['item_cnt'], bins=100, label='i2v')\n",
    "plt.xlabel('item_cnt')\n",
    "plt.ylabel('# of items')\n",
    "plt.title(f'Histogram of {metric} (at {k}) over different item counts')\n",
    "plt.legend()\n",
    "plt.show()"
   ]
  },
  {
   "cell_type": "markdown",
   "id": "b30c60d1",
   "metadata": {},
   "source": [
    "# TSNE"
   ]
  },
  {
   "cell_type": "code",
   "execution_count": 114,
   "id": "5e47293b",
   "metadata": {},
   "outputs": [],
   "source": [
    "yahoo = pickle.load(open(f'{H_FOLD}/data/100_songs_train.pkl','rb'))"
   ]
  },
  {
   "cell_type": "code",
   "execution_count": 115,
   "id": "9a77838f",
   "metadata": {},
   "outputs": [],
   "source": [
    "idx2item = pickle.load(pathlib.Path(f'{H_FOLD}/{DATA_FOLD}', 'idx2item.dat').open('rb'))"
   ]
  },
  {
   "cell_type": "code",
   "execution_count": 116,
   "id": "243a7e5e",
   "metadata": {},
   "outputs": [],
   "source": [
    "idx2item_dict = {i:k for i,k in enumerate(idx2item)}"
   ]
  },
  {
   "cell_type": "code",
   "execution_count": 117,
   "id": "5f1cfe85",
   "metadata": {},
   "outputs": [],
   "source": [
    "itemid2singer = {yahoo[1][k]: k.split('#')[1] for k in yahoo[1].keys()}"
   ]
  },
  {
   "cell_type": "code",
   "execution_count": 119,
   "id": "0d784ec9",
   "metadata": {},
   "outputs": [],
   "source": [
    "idx2singer = {k: itemid2singer[int(idx2item_dict[k])] for k in list(idx2item_dict.keys())[:-2]}"
   ]
  },
  {
   "cell_type": "code",
   "execution_count": 130,
   "id": "a3200a83",
   "metadata": {},
   "outputs": [],
   "source": [
    "colors = {singer:i for i,singer in enumerate(list(set(list(idx2singer.values()))))}"
   ]
  },
  {
   "cell_type": "code",
   "execution_count": 145,
   "id": "6a8413c4",
   "metadata": {},
   "outputs": [
    {
     "data": {
      "text/plain": [
       "{'Bob_Marley_&_The_Wailers': 0,\n",
       " 'Toby_Keith': 1,\n",
       " 'Metallica': 2,\n",
       " 'Kenny_Chesney': 3,\n",
       " 'Brad_Paisley': 4}"
      ]
     },
     "execution_count": 145,
     "metadata": {},
     "output_type": "execute_result"
    }
   ],
   "source": [
    "colors"
   ]
  },
  {
   "cell_type": "code",
   "execution_count": 79,
   "id": "329e2a60",
   "metadata": {},
   "outputs": [],
   "source": [
    "# Read MovieLens Movies\n",
    "# datContent = [i.strip().split() for i in open(f'{H_FOLD}/data/movies.dat').readlines()]\n",
    "# movs_jsons = []\n",
    "# for mov_t in datContent:\n",
    "#     mov = mov_t[:-1]\n",
    "#     m_id, m_name_1 = mov[0].split('::')\n",
    "#     tag = mov_t[-1]\n",
    "#     t_id, t_name = tag.split('::')\n",
    "#     movs_jsons.append({'id': m_id ,'name': m_name_1 + ' ' + ' '.join(mov[1:]), 'tag_id': t_id,  'tag name': t_name})"
   ]
  },
  {
   "cell_type": "code",
   "execution_count": 80,
   "id": "a4d4ccd0",
   "metadata": {},
   "outputs": [],
   "source": [
    "model = t.load(MODEL_FILE,map_location=t.device('cpu'))"
   ]
  },
  {
   "cell_type": "code",
   "execution_count": 81,
   "id": "d47d1244",
   "metadata": {},
   "outputs": [],
   "source": [
    "X_embedded = TSNE(n_components=2).fit_transform(np.array(model.ai2v.tvectors.weight.data))"
   ]
  },
  {
   "cell_type": "code",
   "execution_count": 144,
   "id": "f240fb9e",
   "metadata": {},
   "outputs": [],
   "source": [
    "labels = np.array([colors[singer] for singer in idx2singer.values()])"
   ]
  },
  {
   "cell_type": "code",
   "execution_count": 153,
   "id": "6a4b8b0c",
   "metadata": {},
   "outputs": [
    {
     "name": "stderr",
     "output_type": "stream",
     "text": [
      "No handles with labels found to put in legend.\n"
     ]
    },
    {
     "data": {
      "text/plain": [
       "<matplotlib.legend.Legend at 0x271e210bf28>"
      ]
     },
     "execution_count": 153,
     "metadata": {},
     "output_type": "execute_result"
    },
    {
     "data": {
      "image/png": "[encoded data removed]",
      "text/plain": [
       "<Figure size 432x288 with 1 Axes>"
      ]
     },
     "metadata": {
      "needs_background": "light"
     },
     "output_type": "display_data"
    }
   ],
   "source": [
    "# fig, ax = plt.subplots()\n",
    "# for clr in colors.values():\n",
    "#     ix = np.where(labels==clr)\n",
    "#     print(ix)\n",
    "#     print(clr)\n",
    "#     ax.scatter(X_embedded[ix,0], X_embedded[ix, 1], c = clr, s = 100)\n",
    "# ax.legend()\n",
    "# plt.show()\n",
    "\n",
    "plt.scatter(X_embedded[:-2,0],X_embedded[:-2,1], c=[colors[singer] for singer in idx2singer.values()])\n",
    "plt.legend()"
   ]
  },
  {
   "cell_type": "markdown",
   "id": "a5395a57",
   "metadata": {},
   "source": [
    "# Popular Items Removal"
   ]
  },
  {
   "cell_type": "code",
   "execution_count": 4,
   "id": "108cc805",
   "metadata": {},
   "outputs": [],
   "source": [
    "k = 20\n",
    "ic_file = f'{H_FOLD}/{DATA_FOLD}/full_ic.dat'\n",
    "item2idx_file = f'{H_FOLD}/{DATA_FOLD}/full_item2idx.dat'"
   ]
  },
  {
   "cell_type": "code",
   "execution_count": 5,
   "id": "ebaffc6c",
   "metadata": {},
   "outputs": [],
   "source": [
    "item_cnts = pickle.load(open(ic_file, 'rb'))\n",
    "itm_cnts_df = pd.DataFrame([item_cnts.keys(), item_cnts.values()]).T\n",
    "itm_cnts_df.columns=['item_id','cnt']"
   ]
  },
  {
   "cell_type": "code",
   "execution_count": 6,
   "id": "b92b5d92",
   "metadata": {},
   "outputs": [],
   "source": [
    "# create hits file of popularity model\n",
    "\n",
    "test_file = f'{H_FOLD}/{DATA_FOLD}/test_raw.csv'\n",
    "test = pd.read_csv(test_file, names=['user','item'])\n",
    "itms_pop_rank = [int(itm) for itm in itm_cnts_df.sort_values(by='cnt', ascending=False)['item_id'].tolist()[:k]]\n",
    "\n",
    "hits = 0\n",
    "\n",
    "test['pred_loc'] = 0\n",
    "test['hit'] = test.apply(lambda row: 1 if row['item'] in itms_pop_rank else 0 , axis=1)\n",
    "test.to_csv(f'{H_FOLD}/output/pop_model_hr_{k}.csv', index=False)"
   ]
  },
  {
   "cell_type": "code",
   "execution_count": 7,
   "id": "8474a02a",
   "metadata": {},
   "outputs": [],
   "source": [
    "cnts_sorted = itm_cnts_df.sort_values(by=['cnt'],ascending=False)['cnt'].tolist()"
   ]
  },
  {
   "cell_type": "code",
   "execution_count": 8,
   "id": "192d01f1",
   "metadata": {},
   "outputs": [],
   "source": [
    "items_sorted = [int(item) for item in itm_cnts_df.sort_values(by=['cnt'],ascending=False)['item_id'].tolist()[:-2]]"
   ]
  },
  {
   "cell_type": "code",
   "execution_count": 9,
   "id": "205ab960",
   "metadata": {},
   "outputs": [],
   "source": [
    "binned_items = [items_sorted[:i+10] for i in range(0, len(items_sorted), 10)]"
   ]
  },
  {
   "cell_type": "code",
   "execution_count": 10,
   "id": "bc78766f",
   "metadata": {},
   "outputs": [],
   "source": [
    "binned_items.insert(0, [])"
   ]
  },
  {
   "cell_type": "code",
   "execution_count": 13,
   "id": "e5e3640d",
   "metadata": {},
   "outputs": [
    {
     "data": {
      "text/plain": [
       "<matplotlib.legend.Legend at 0x1991afa0828>"
      ]
     },
     "execution_count": 13,
     "metadata": {},
     "output_type": "execute_result"
    },
    {
     "data": {
      "image/png": "[encoded data removed]",
      "text/plain": [
       "<Figure size 432x288 with 1 Axes>"
      ]
     },
     "metadata": {
      "needs_background": "light"
     },
     "output_type": "display_data"
    }
   ],
   "source": [
    "number_of_bins = 10\n",
    "for hits_file, label in zip([f'{H_FOLD}/{AI2V_OUT_FOLD}/hr_{k}.csv', \n",
    "                             f'{H_FOLD}/{I2V_OUT_FOLD}/hr_{k}.csv', \n",
    "                             f'{H_FOLD}/{LGCN_OUT_FOLD}/hr_{k}.csv',\n",
    "                             f'{H_FOLD}/{BPR_OUT_FOLD}/hr_{k}.csv',\n",
    "                             f'{H_FOLD}/{NCF_OUT_FOLD}/hr_{k}.csv',\n",
    "                             f'{H_FOLD}/output/pop_model_hr_{k}.csv'],\n",
    "                            ['ai2v','i2v','lightgcn','bpr','ncf','popularity']):\n",
    "    hits = pd.read_csv(hits_file, usecols=[0,1,2,3], skiprows=1, names=['user','item','pred_loc','hit'])\n",
    "    hit_ratios = []\n",
    "    for bin_ in binned_items[:number_of_bins]:\n",
    "        new_test = hits[~hits['item'].isin(bin_)]\n",
    "        if not new_test.empty:\n",
    "            hit_ratios.append(new_test[new_test['hit']==1].shape[0] / new_test.shape[0])\n",
    "        else:\n",
    "            hit_ratios.append(0)\n",
    "    plt.plot([i for i in list(range(number_of_bins))], hit_ratios,'-o', label=label)\n",
    "plt.xlabel('bin of popular items removed')\n",
    "plt.ylabel(f'hit@{k}')\n",
    "plt.title(f'{DATASET} - HR@{k} on per bin of popular items removed from test')\n",
    "plt.legend()"
   ]
  },
  {
   "cell_type": "markdown",
   "id": "73424314",
   "metadata": {},
   "source": [
    "# Statistics"
   ]
  },
  {
   "cell_type": "code",
   "execution_count": null,
   "id": "594c2d55",
   "metadata": {},
   "outputs": [],
   "source": []
  },
  {
   "cell_type": "code",
   "execution_count": null,
   "id": "9dc2d323",
   "metadata": {},
   "outputs": [],
   "source": []
  },
  {
   "cell_type": "code",
   "execution_count": null,
   "id": "20bb293f",
   "metadata": {},
   "outputs": [],
   "source": []
  },
  {
   "cell_type": "code",
   "execution_count": null,
   "id": "1218b1bb",
   "metadata": {},
   "outputs": [],
   "source": []
  },
  {
   "cell_type": "code",
   "execution_count": null,
   "id": "43f002c4",
   "metadata": {},
   "outputs": [],
   "source": []
  },
  {
   "cell_type": "code",
   "execution_count": null,
   "id": "0f067777",
   "metadata": {},
   "outputs": [],
   "source": []
  },
  {
   "cell_type": "markdown",
   "id": "3b444de7",
   "metadata": {},
   "source": [
    "# Attention Scores"
   ]
  },
  {
   "cell_type": "markdown",
   "id": "59faf3d9",
   "metadata": {},
   "source": [
    "### MovieLens"
   ]
  },
  {
   "cell_type": "code",
   "execution_count": null,
   "id": "c9df049c",
   "metadata": {},
   "outputs": [],
   "source": [
    "DATASET = 'movielens'\n",
    "\n",
    "DATA_FOLD = f'corpus/{DATASET}_llo' #######################\n",
    "\n",
    "AI2V_OUT_FOLD = f'output/{DATASET}_ai2v_llo' ########################\n",
    "\n",
    "AI2V_MODEL_FILE = f'{H_FOLD}/{AI2V_OUT_FOLD}/model.pt'\n",
    "\n",
    "k = 20 #############################\n",
    "ic_file = f'{DATA_FOLD}/full_ic.dat'\n",
    "item2idx_file = f'{DATA_FOLD}/full_item2idx.dat'\n",
    "\n",
    "hits_ai2v = pd.read_csv(f'{AI2V_OUT_FOLD}/hr_{k}.csv', usecols=[0,1,2,3], skiprows=1, names=['user','item','pred_loc','hit'])\n",
    "hits_ai2v[hits_ai2v['hit']==1].head(100)"
   ]
  },
  {
   "cell_type": "code",
   "execution_count": null,
   "id": "82ec326a",
   "metadata": {},
   "outputs": [],
   "source": [
    "# from dat to csv:\n",
    "file_out = './corpus/movielens_llo/movies.csv'\n",
    "with open(file_out, 'w', newline='', encoding=\"utf-8\") as w_file:\n",
    "    writer = csv.writer(w_file, delimiter=',', quotechar='\"', escapechar='\\n', quoting=csv.QUOTE_NONE)\n",
    "    writer.writerow(['id', 'name', 'genres'])\n",
    "    with open(f'{DATA_FOLD}/movies.dat', encoding='ISO-8859-1') as data:\n",
    "        for line in data:\n",
    "            line = line.split('::')\n",
    "            item_idx = line[0]\n",
    "            item_name = line[1]\n",
    "            item_genres = line[2]\n",
    "            writer.writerow([str(item_idx), str(item_name), str(item_genres)])\n",
    "\n",
    "test_data = pickle.load(open(f'{DATA_FOLD}/test.dat','rb'))\n",
    "item2idx = pickle.load(open(f'{DATA_FOLD}/item2idx.dat','rb'))\n",
    "idx2item = {v:k for k,v in item2idx.items()}\n",
    "test_orig = []\n",
    "for tup in test_data:\n",
    "    target = int(idx2item[tup[1]])\n",
    "    context = [int(idx2item[idx]) for idx in tup[0]]\n",
    "    test_orig.append((context, target))\n",
    "movies = pd.read_csv(f'{DATA_FOLD}/movies.csv')\n",
    "movies_test = []\n",
    "print(movies)\n",
    "for tup in test_orig:\n",
    "    target = movies.loc[movies['id']==tup[1],'name'].values[0]\n",
    "    context = [movies.loc[movies['id']==idx,'name'].values[0] \n",
    "              for idx in tup[0]]\n",
    "    movies_test.append((context, target))"
   ]
  },
  {
   "cell_type": "code",
   "execution_count": null,
   "id": "d6e43672",
   "metadata": {},
   "outputs": [],
   "source": [
    "attention_score = pickle.load(open(f'{AI2V_OUT_FOLD}/attention_scores.pkl','rb'))\n",
    "\n",
    "lists = []\n",
    "for idx in range(len(attention_score[:100])):\n",
    "    if len(attention_score[idx]) <= 20:\n",
    "        lists.append(idx)\n",
    "print(lists)"
   ]
  },
  {
   "cell_type": "code",
   "execution_count": null,
   "id": "4c4a93a3",
   "metadata": {},
   "outputs": [],
   "source": [
    "sample = 53\n",
    "data = np.expand_dims(attention_score[sample], axis=0)\n",
    "labels = movies_test[sample][0]\n",
    "target = movies_test[sample][1]\n",
    "\n",
    "\n",
    "cmap = plt.cm.summer\n",
    "norm = plt.Normalize(data.min(), data.max())\n",
    "rgba = cmap(norm(data))\n",
    "\n",
    "fig, ax = plt.subplots(figsize=(18, 2))\n",
    "ax.imshow(rgba, interpolation='nearest')\n",
    "\n",
    "im = ax.imshow(data, visible=False, cmap=cmap)\n",
    "\n",
    "ax.set_xticks(list(range(data.shape[1])))\n",
    "\n",
    "ax.set_xticklabels(labels, rotation = 90)\n",
    "\n",
    "for i in range(data.shape[1]):\n",
    "    text = ax.text(i, 0, round(data[0, i],3),\n",
    "                       ha=\"center\", va=\"center\")\n",
    "\n",
    "fig.colorbar(im)\n",
    "plt.title(f'Attention scores for {target}')\n",
    "plt.show()\n",
    "\n",
    "sample = 5\n",
    "# For the movie \"Pretty Woman\" the movie that received the higher score is \"my Fair Lady\". Both movies describes the journey that the woman goes through from the streets to a lady accepted by society. Both movies are known and successful romances.\n",
    "\n",
    "sample = 19\n",
    "# For the movie \"The Fifth Element\" the movie that received the higher score is \"Matrix\". Both movies are science fiction movies. The rest of the movies on the list are dramas and so \"Matrix\" is the best fit for \"The Fifth Element\".\n",
    "\n",
    "sample = 31\n",
    "# For the movie \"The Green Mile\" the movie that received the higher score is \"Twelve Monkeys\". \"The Green Mile\" is a fantasy drama movie and \"Twelve Monkeys\" is a science fiction drama movie. In both movies, there is an engagement with a disease.\n",
    "\n",
    "sample = 45\n",
    "# For the movie \"Evil Dead 2\" the movie that received the higher score is \"I Still Know What You Did Last Summer\". Both movies are horror movies and sequels. Most of the movies on this list are horror movies when evil dead 2 is a horror-comedy.\n",
    "\n",
    "sample = 49\n",
    "\n",
    "sample = 82\n",
    "# For the movie \"Bone Collector\" the movie that received the higher score is \"The Exorcist\". \"Bone Collector\" is a thriller and \"The Exorcist\" is a horror movie and those are two genres that have a lot of similarities. The second best movie is \"Final Destination\" which is also a horror movie."
   ]
  },
  {
   "cell_type": "code",
   "execution_count": null,
   "id": "30672b2a",
   "metadata": {},
   "outputs": [],
   "source": [
    "# Not working right, show the same scores every time.\n",
    "data = np.expand_dims(attention_score[0], axis=1)\n",
    "labels = movies_test[0][0]\n",
    "target = movies_test[15][1]\n",
    "cmap = plt.cm.gray\n",
    "norm = plt.Normalize(data.min(), data.max())\n",
    "rgba = cmap(norm(data))\n",
    "fig, ax = plt.subplots(figsize=(2, 10))\n",
    "ax.imshow(rgba, interpolation='nearest')\n",
    "im = ax.imshow(data, visible=False, cmap=cmap)\n",
    "ax.set_yticks(list(range(data.shape[0])))\n",
    "ax.set_yticklabels(labels)\n",
    "fig.colorbar(im)\n",
    "plt.title(f'Attention scores for {target}')"
   ]
  },
  {
   "cell_type": "markdown",
   "id": "94315645",
   "metadata": {},
   "source": [
    "### GoodBooks"
   ]
  },
  {
   "cell_type": "code",
   "execution_count": null,
   "id": "686607a0",
   "metadata": {},
   "outputs": [],
   "source": [
    "DATASET = 'goodbooks'\n",
    "\n",
    "DATA_FOLD = f'corpus/{DATASET}_llo' #######################\n",
    "\n",
    "AI2V_OUT_FOLD = f'output/{DATASET}_ai2v_llo' ########################\n",
    "\n",
    "AI2V_MODEL_FILE = f'{H_FOLD}/{AI2V_OUT_FOLD}/model.pt'\n",
    "\n",
    "k = 20 #############################\n",
    "ic_file = f'{DATA_FOLD}/full_ic.dat'\n",
    "item2idx_file = f'{DATA_FOLD}/full_item2idx.dat'\n",
    "\n",
    "hits_ai2v = pd.read_csv(f'{AI2V_OUT_FOLD}/hr_{k}.csv', usecols=[0,1,2,3], skiprows=1, names=['user','item','pred_loc','hit'])\n",
    "hits_ai2v[hits_ai2v['hit']==1].head(100)"
   ]
  },
  {
   "cell_type": "code",
   "execution_count": null,
   "id": "68dfcdf5",
   "metadata": {},
   "outputs": [],
   "source": [
    "test_data = pickle.load(open(f'{DATA_FOLD}/test.dat','rb'))\n",
    "item2idx = pickle.load(open(f'{DATA_FOLD}/item2idx.dat','rb'))\n",
    "idx2item = {v:k for k,v in item2idx.items()}\n",
    "test_orig = []\n",
    "for tup in test_data:\n",
    "    target = int(idx2item[tup[1]])\n",
    "    context = [int(idx2item[idx]) for idx in tup[0]]\n",
    "    test_orig.append((context, target))\n",
    "movies = pd.read_csv(f'{DATA_FOLD}/books_job.csv', encoding='latin-1')\n",
    "movies_test = []\n",
    "for tup in test_orig:\n",
    "    target = movies.loc[movies['id']==tup[1],'name'].values[0]\n",
    "    context = [movies.loc[movies['id']==idx,'name'].values[0] \n",
    "              for idx in tup[0]]\n",
    "    movies_test.append((context, target))"
   ]
  },
  {
   "cell_type": "code",
   "execution_count": null,
   "id": "bf9ef29a",
   "metadata": {},
   "outputs": [],
   "source": [
    "attention_score = pickle.load(open(f'{AI2V_OUT_FOLD}/attention_scores.pkl','rb'))\n",
    "\n",
    "lists = []\n",
    "for idx in range(len(attention_score[:100])):\n",
    "    if len(attention_score[idx]) <= 20:\n",
    "        lists.append(idx)\n",
    "print(lists)"
   ]
  },
  {
   "cell_type": "code",
   "execution_count": null,
   "id": "5cf07ef9",
   "metadata": {},
   "outputs": [],
   "source": [
    "sample = 0\n",
    "data = np.expand_dims(attention_score[sample], axis=0)\n",
    "labels = movies_test[sample][0]\n",
    "target = movies_test[sample][1]\n",
    "\n",
    "\n",
    "cmap = plt.cm.summer\n",
    "norm = plt.Normalize(data.min(), data.max())\n",
    "rgba = cmap(norm(data))\n",
    "\n",
    "fig, ax = plt.subplots(figsize=(18, 2))\n",
    "ax.imshow(rgba, interpolation='nearest')\n",
    "\n",
    "im = ax.imshow(data, visible=False, cmap=cmap)\n",
    "\n",
    "ax.set_xticks(list(range(data.shape[1])))\n",
    "\n",
    "ax.set_xticklabels(labels, rotation = 90)\n",
    "\n",
    "for i in range(data.shape[1]):\n",
    "    text = ax.text(i, 0, round(data[0, i],3),\n",
    "                       ha=\"center\", va=\"center\")\n",
    "\n",
    "fig.colorbar(im)\n",
    "plt.title(f'Attention scores for {target}')\n",
    "plt.show()\n",
    "\n",
    "sample = 46\n",
    "\n",
    "sample = 70\n",
    "\n",
    "sample = 97\n",
    "\n",
    "sample = 98"
   ]
  },
  {
   "cell_type": "markdown",
   "id": "e1d86c87",
   "metadata": {},
   "source": [
    "### Netflix"
   ]
  },
  {
   "cell_type": "code",
   "execution_count": null,
   "id": "0b4e1b88",
   "metadata": {},
   "outputs": [],
   "source": [
    "DATASET = 'netflix'\n",
    "\n",
    "DATA_FOLD = f'corpus/{DATASET}_llo' #######################\n",
    "\n",
    "AI2V_OUT_FOLD = f'output/{DATASET}_ai2v_llo' ########################\n",
    "\n",
    "AI2V_MODEL_FILE = f'{H_FOLD}/{AI2V_OUT_FOLD}/model.pt'\n",
    "\n",
    "k = 20 #############################\n",
    "ic_file = f'{DATA_FOLD}/full_ic.dat'\n",
    "item2idx_file = f'{DATA_FOLD}/full_item2idx.dat'\n",
    "\n",
    "hits_ai2v = pd.read_csv(f'{AI2V_OUT_FOLD}/hr_{k}.csv', usecols=[0,1,2,3], skiprows=1, names=['user','item','pred_loc','hit'])\n",
    "hits_ai2v[hits_ai2v['hit']==1].head(100)"
   ]
  },
  {
   "cell_type": "code",
   "execution_count": null,
   "id": "f89353c6",
   "metadata": {},
   "outputs": [],
   "source": [
    "# Theres a problem, it's not working.\n",
    "test_data = pickle.load(open(f'{DATA_FOLD}/test.dat','rb'))\n",
    "item2idx = pickle.load(open(f'{DATA_FOLD}/item2idx.dat','rb'))\n",
    "idx2item = {v:k for k,v in item2idx.items()}\n",
    "test_orig = []\n",
    "for tup in test_data:\n",
    "    target = int(idx2item[tup[1]])\n",
    "    context = [int(idx2item[idx]) for idx in tup[0]]\n",
    "    test_orig.append((context, target))\n",
    "movies = pd.read_csv(f'{DATA_FOLD}/movie_titles.csv', encoding='latin-1')\n",
    "movies_test = []\n",
    "print(movies)\n",
    "for tup in test_orig:\n",
    "    print(movies.loc[movies['id']==tup[1],'name'])\n",
    "    print(tup[1])\n",
    "    print(tup)\n",
    "    target = movies.loc[movies['id']==tup[1],'name'].values[0]\n",
    "    context = [movies.loc[movies['id']==idx,'name'].values[0] \n",
    "              for idx in tup[0]]\n",
    "    movies_test.append((context, target))"
   ]
  },
  {
   "cell_type": "code",
   "execution_count": null,
   "id": "a94ba11e",
   "metadata": {},
   "outputs": [],
   "source": [
    "attention_score = pickle.load(open(f'{AI2V_OUT_FOLD}/attention_scores.pkl','rb'))\n",
    "\n",
    "lists = []\n",
    "for idx in range(len(attention_score[:100])):\n",
    "    if len(attention_score[idx]) <= 20:\n",
    "        lists.append(idx)\n",
    "print(lists)"
   ]
  },
  {
   "cell_type": "code",
   "execution_count": null,
   "id": "24c31f94",
   "metadata": {},
   "outputs": [],
   "source": [
    "sample = 0\n",
    "data = np.expand_dims(attention_score[sample], axis=0)\n",
    "labels = movies_test[sample][0]\n",
    "target = movies_test[sample][1]\n",
    "\n",
    "\n",
    "cmap = plt.cm.summer\n",
    "norm = plt.Normalize(data.min(), data.max())\n",
    "rgba = cmap(norm(data))\n",
    "\n",
    "fig, ax = plt.subplots(figsize=(18, 2))\n",
    "ax.imshow(rgba, interpolation='nearest')\n",
    "\n",
    "im = ax.imshow(data, visible=False, cmap=cmap)\n",
    "\n",
    "ax.set_xticks(list(range(data.shape[1])))\n",
    "\n",
    "ax.set_xticklabels(labels, rotation = 90)\n",
    "\n",
    "for i in range(data.shape[1]):\n",
    "    text = ax.text(i, 0, round(data[0, i],3),\n",
    "                       ha=\"center\", va=\"center\")\n",
    "\n",
    "fig.colorbar(im)\n",
    "plt.title(f'Attention scores for {target}')\n",
    "plt.show()"
   ]
  },
  {
   "cell_type": "markdown",
   "id": "5fba76ee",
   "metadata": {},
   "source": [
    "### Moviesdat"
   ]
  },
  {
   "cell_type": "code",
   "execution_count": null,
   "id": "773a682e",
   "metadata": {},
   "outputs": [],
   "source": [
    "DATASET = 'moviesdat'\n",
    "\n",
    "DATA_FOLD = f'corpus/{DATASET}_llo' #######################\n",
    "\n",
    "AI2V_OUT_FOLD = f'output/{DATASET}_ai2v_llo' ########################\n",
    "\n",
    "AI2V_MODEL_FILE = f'{H_FOLD}/{AI2V_OUT_FOLD}/model.pt'\n",
    "\n",
    "k = 20 #############################\n",
    "ic_file = f'{DATA_FOLD}/full_ic.dat'\n",
    "item2idx_file = f'{DATA_FOLD}/full_item2idx.dat'\n",
    "\n",
    "hits_ai2v = pd.read_csv(f'{AI2V_OUT_FOLD}/hr_{k}.csv', usecols=[0,1,2,3], skiprows=1, names=['user','item','pred_loc','hit'])\n",
    "hits_ai2v[hits_ai2v['hit']==1].head(100)"
   ]
  },
  {
   "cell_type": "code",
   "execution_count": null,
   "id": "4bf9b8d6",
   "metadata": {},
   "outputs": [],
   "source": [
    "# Theres a problem, it's not working.\n",
    "test_data = pickle.load(open(f'{DATA_FOLD}/test.dat','rb'))\n",
    "item2idx = pickle.load(open(f'{DATA_FOLD}/item2idx.dat','rb'))\n",
    "idx2item = {v:k for k,v in item2idx.items()}\n",
    "test_orig = []\n",
    "for tup in test_data:\n",
    "    target = int(idx2item[tup[1]])\n",
    "    context = [int(idx2item[idx]) for idx in tup[0]]\n",
    "    test_orig.append((context, target))\n",
    "movies = pd.read_csv(f'{DATA_FOLD}/movies_job.csv', encoding='latin-1')\n",
    "movies_test = []\n",
    "print(movies)\n",
    "for tup in test_orig:\n",
    "    print(movies.loc[movies['id']==tup[1],'name'])\n",
    "    print(tup[1])\n",
    "    target = movies.loc[movies['id']==tup[1],'name'].values[0]\n",
    "    context = [movies.loc[movies['id']==idx,'name'].values[0] \n",
    "              for idx in tup[0]]\n",
    "    movies_test.append((context, target))"
   ]
  },
  {
   "cell_type": "code",
   "execution_count": null,
   "id": "e64591ea",
   "metadata": {},
   "outputs": [],
   "source": [
    "attention_score = pickle.load(open(f'{AI2V_OUT_FOLD}/attention_scores.pkl','rb'))\n",
    "\n",
    "lists = []\n",
    "for idx in range(len(attention_score[:100])):\n",
    "    if len(attention_score[idx]) <= 20:\n",
    "        lists.append(idx)\n",
    "print(lists)"
   ]
  },
  {
   "cell_type": "code",
   "execution_count": null,
   "id": "266d101d",
   "metadata": {},
   "outputs": [],
   "source": [
    "sample = 0\n",
    "data = np.expand_dims(attention_score[sample], axis=0)\n",
    "labels = movies_test[sample][0]\n",
    "target = movies_test[sample][1]\n",
    "\n",
    "\n",
    "cmap = plt.cm.summer\n",
    "norm = plt.Normalize(data.min(), data.max())\n",
    "rgba = cmap(norm(data))\n",
    "\n",
    "fig, ax = plt.subplots(figsize=(18, 2))\n",
    "ax.imshow(rgba, interpolation='nearest')\n",
    "\n",
    "im = ax.imshow(data, visible=False, cmap=cmap)\n",
    "\n",
    "ax.set_xticks(list(range(data.shape[1])))\n",
    "\n",
    "ax.set_xticklabels(labels, rotation = 90)\n",
    "\n",
    "for i in range(data.shape[1]):\n",
    "    text = ax.text(i, 0, round(data[0, i],3),\n",
    "                       ha=\"center\", va=\"center\")\n",
    "\n",
    "fig.colorbar(im)\n",
    "plt.title(f'Attention scores for {target}')\n",
    "plt.show()"
   ]
  }
 ],
 "metadata": {
  "kernelspec": {
   "display_name": "Python 3",
   "language": "python",
   "name": "python3"
  },
  "language_info": {
   "codemirror_mode": {
    "name": "ipython",
    "version": 3
   },
   "file_extension": ".py",
   "mimetype": "text/x-python",
   "name": "python",
   "nbconvert_exporter": "python",
   "pygments_lexer": "ipython3",
   "version": "3.6.8"
  }
 },
 "nbformat": 4,
 "nbformat_minor": 5
}
