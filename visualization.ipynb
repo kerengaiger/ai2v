{
 "cells": [
  {
   "cell_type": "code",
   "execution_count": 1,
   "id": "cc8d6543",
   "metadata": {},
   "outputs": [],
   "source": [
    "import pandas as pd\n",
    "import numpy as np\n",
    "import pathlib\n",
    "import pickle\n",
    "import torch as t\n",
    "import sys\n",
    "import matplotlib.pyplot as plt\n",
    "sys.path.append('C:\\\\Users\\\\keren\\\\Projects\\\\pytorch-sgns')\n",
    "import ai2v_model\n",
    "\n",
    "import numpy as np\n",
    "from sklearn.manifold import TSNE"
   ]
  },
  {
   "cell_type": "code",
   "execution_count": 36,
   "id": "78fdd003",
   "metadata": {},
   "outputs": [],
   "source": [
    "H_FOLD = 'C:/Users/keren/Projects/pytorch-sgns'\n",
    "DATASET = 'goodbooks'\n",
    "\n",
    "DATA_FOLD = f'corpus/{DATASET}_llo'\n",
    "\n",
    "AI2V_OUT_FOLD = f'output/{DATASET}_ai2v_llo'\n",
    "I2V_OUT_FOLD = f'output/{DATASET}_i2v_llo'\n",
    "BPR_OUT_FOLD = f'output/{DATASET}_bpr_llo'\n",
    "LGCN_OUT_FOLD = f'output/{DATASET}_lightgcn_llo'\n",
    "NCF_OUT_FOLD = f'output/{DATASET}_ncf_llo'\n",
    "\n",
    "AI2V_MODEL_FILE = f'{H_FOLD}/{AI2V_OUT_FOLD}/model.pt'\n",
    "I2V_MODEL_FILE = f'{H_FOLD}/{I2V_OUT_FOLD}/model.pt'"
   ]
  },
  {
   "cell_type": "markdown",
   "id": "70dcc01b",
   "metadata": {},
   "source": [
    "## Performance on cold start items"
   ]
  },
  {
   "cell_type": "code",
   "execution_count": 3,
   "id": "09ca074f",
   "metadata": {},
   "outputs": [],
   "source": [
    "ic = pickle.load(pathlib.Path(f'{H_FOLD}/{DATA_FOLD}', 'ic.dat').open('rb'))\n",
    "idx2item = pickle.load(pathlib.Path(f'{H_FOLD}/{DATA_FOLD}', 'idx2item.dat').open('rb'))"
   ]
  },
  {
   "cell_type": "code",
   "execution_count": 55,
   "id": "a9c4006d",
   "metadata": {},
   "outputs": [],
   "source": [
    "k = 20\n",
    "metric = 'hr'"
   ]
  },
  {
   "cell_type": "code",
   "execution_count": 56,
   "id": "e7f29ec6",
   "metadata": {},
   "outputs": [],
   "source": [
    "# AI2V_MET_FILE = f'{H_FOLD}/{AI2V_OUT_FOLD}/ai2v_netflix_{k}_{metric}.csv'\n",
    "# I2V_MET_FILE = f'{H_FOLD}/{I2V_OUT_FOLD}/i2v_netflix_{k}_{metric}.csv'"
   ]
  },
  {
   "cell_type": "code",
   "execution_count": 57,
   "id": "b73c97e5",
   "metadata": {},
   "outputs": [],
   "source": [
    "AI2V_MET_FILE = f'{H_FOLD}/{AI2V_OUT_FOLD}/{metric}_{k}.csv'\n",
    "I2V_MET_FILE = f'{H_FOLD}/{I2V_OUT_FOLD}/{metric}_{k}.csv'"
   ]
  },
  {
   "cell_type": "code",
   "execution_count": 58,
   "id": "4af31deb",
   "metadata": {},
   "outputs": [],
   "source": [
    "met_col_i2v = f'{metric}_i2v'\n",
    "met_col_ai2v = f'{metric}_ai2v'\n",
    "\n",
    "df_i2v = pd.read_csv(I2V_MET_FILE, names=['u_id','i_id',met_col_i2v])\n",
    "df_ai2v = pd.read_csv(AI2V_MET_FILE, names=['u_id','i_id',met_col_ai2v])\n",
    "\n",
    "df_i2v['i_name'] = np.array(idx2item)[df_i2v['i_id'].tolist()]\n",
    "df_ai2v['i_name'] = np.array(idx2item)[df_ai2v['i_id'].tolist()]\n",
    "\n",
    "df_i2v['item_cnt'] = df_i2v['i_name'].map(ic)\n",
    "df_ai2v['item_cnt'] = df_ai2v['i_name'].map(ic)"
   ]
  },
  {
   "cell_type": "code",
   "execution_count": 59,
   "id": "183ce4b7",
   "metadata": {},
   "outputs": [
    {
     "data": {
      "image/png": "[encoded data removed]",
      "text/plain": [
       "<Figure size 432x288 with 1 Axes>"
      ]
     },
     "metadata": {
      "needs_background": "light"
     },
     "output_type": "display_data"
    }
   ],
   "source": [
    "plt.hist(df_ai2v[df_ai2v[met_col_ai2v]==1]['item_cnt'], bins=100, label='ai2v')\n",
    "plt.hist(df_i2v[df_i2v[met_col_i2v]==1]['item_cnt'], bins=100, label='i2v')\n",
    "plt.xlabel('item_cnt')\n",
    "plt.ylabel('# of items')\n",
    "plt.title(f'Histogram of {metric} (at {k}) over different item counts')\n",
    "plt.legend()\n",
    "plt.show()"
   ]
  },
  {
   "cell_type": "markdown",
   "id": "abbf5afc",
   "metadata": {},
   "source": [
    "# TSNE"
   ]
  },
  {
   "cell_type": "code",
   "execution_count": 114,
   "id": "6916fee1",
   "metadata": {},
   "outputs": [],
   "source": [
    "yahoo = pickle.load(open(f'{H_FOLD}/data/100_songs_train.pkl','rb'))"
   ]
  },
  {
   "cell_type": "code",
   "execution_count": 115,
   "id": "681b935d",
   "metadata": {},
   "outputs": [],
   "source": [
    "idx2item = pickle.load(pathlib.Path(f'{H_FOLD}/{DATA_FOLD}', 'idx2item.dat').open('rb'))"
   ]
  },
  {
   "cell_type": "code",
   "execution_count": 116,
   "id": "919d8c5d",
   "metadata": {},
   "outputs": [],
   "source": [
    "idx2item_dict = {i:k for i,k in enumerate(idx2item)}"
   ]
  },
  {
   "cell_type": "code",
   "execution_count": 117,
   "id": "09a40284",
   "metadata": {},
   "outputs": [],
   "source": [
    "itemid2singer = {yahoo[1][k]: k.split('#')[1] for k in yahoo[1].keys()}"
   ]
  },
  {
   "cell_type": "code",
   "execution_count": 119,
   "id": "83b63f30",
   "metadata": {},
   "outputs": [],
   "source": [
    "idx2singer = {k: itemid2singer[int(idx2item_dict[k])] for k in list(idx2item_dict.keys())[:-2]}"
   ]
  },
  {
   "cell_type": "code",
   "execution_count": 130,
   "id": "ff06c2cf",
   "metadata": {},
   "outputs": [],
   "source": [
    "colors = {singer:i for i,singer in enumerate(list(set(list(idx2singer.values()))))}"
   ]
  },
  {
   "cell_type": "code",
   "execution_count": 145,
   "id": "07935575",
   "metadata": {},
   "outputs": [
    {
     "data": {
      "text/plain": [
       "{'Bob_Marley_&_The_Wailers': 0,\n",
       " 'Toby_Keith': 1,\n",
       " 'Metallica': 2,\n",
       " 'Kenny_Chesney': 3,\n",
       " 'Brad_Paisley': 4}"
      ]
     },
     "execution_count": 145,
     "metadata": {},
     "output_type": "execute_result"
    }
   ],
   "source": [
    "colors"
   ]
  },
  {
   "cell_type": "code",
   "execution_count": 79,
   "id": "69ecaa44",
   "metadata": {},
   "outputs": [],
   "source": [
    "# Read MovieLens Movies\n",
    "# datContent = [i.strip().split() for i in open(f'{H_FOLD}/data/movies.dat').readlines()]\n",
    "# movs_jsons = []\n",
    "# for mov_t in datContent:\n",
    "#     mov = mov_t[:-1]\n",
    "#     m_id, m_name_1 = mov[0].split('::')\n",
    "#     tag = mov_t[-1]\n",
    "#     t_id, t_name = tag.split('::')\n",
    "#     movs_jsons.append({'id': m_id ,'name': m_name_1 + ' ' + ' '.join(mov[1:]), 'tag_id': t_id,  'tag name': t_name})"
   ]
  },
  {
   "cell_type": "code",
   "execution_count": 80,
   "id": "9c6239d1",
   "metadata": {},
   "outputs": [],
   "source": [
    "model = t.load(MODEL_FILE,map_location=t.device('cpu'))"
   ]
  },
  {
   "cell_type": "code",
   "execution_count": 81,
   "id": "39cff75d",
   "metadata": {},
   "outputs": [],
   "source": [
    "X_embedded = TSNE(n_components=2).fit_transform(np.array(model.ai2v.tvectors.weight.data))"
   ]
  },
  {
   "cell_type": "code",
   "execution_count": 144,
   "id": "0d6d23bf",
   "metadata": {},
   "outputs": [],
   "source": [
    "labels = np.array([colors[singer] for singer in idx2singer.values()])"
   ]
  },
  {
   "cell_type": "code",
   "execution_count": 153,
   "id": "0f0d56a9",
   "metadata": {},
   "outputs": [
    {
     "name": "stderr",
     "output_type": "stream",
     "text": [
      "No handles with labels found to put in legend.\n"
     ]
    },
    {
     "data": {
      "text/plain": [
       "<matplotlib.legend.Legend at 0x271e210bf28>"
      ]
     },
     "execution_count": 153,
     "metadata": {},
     "output_type": "execute_result"
    },
    {
     "data": {
      "image/png": "[encoded data removed]",
      "text/plain": [
       "<Figure size 432x288 with 1 Axes>"
      ]
     },
     "metadata": {
      "needs_background": "light"
     },
     "output_type": "display_data"
    }
   ],
   "source": [
    "# fig, ax = plt.subplots()\n",
    "# for clr in colors.values():\n",
    "#     ix = np.where(labels==clr)\n",
    "#     print(ix)\n",
    "#     print(clr)\n",
    "#     ax.scatter(X_embedded[ix,0], X_embedded[ix, 1], c = clr, s = 100)\n",
    "# ax.legend()\n",
    "# plt.show()\n",
    "\n",
    "plt.scatter(X_embedded[:-2,0],X_embedded[:-2,1], c=[colors[singer] for singer in idx2singer.values()])\n",
    "plt.legend()"
   ]
  },
  {
   "cell_type": "markdown",
   "id": "6d6822fa",
   "metadata": {},
   "source": [
    "# Popular Items Removal"
   ]
  },
  {
   "cell_type": "code",
   "execution_count": 3,
   "id": "63bf2097",
   "metadata": {},
   "outputs": [],
   "source": [
    "k = 20\n",
    "ic_file = f'{H_FOLD}/{DATA_FOLD}/full_ic.dat'\n",
    "item2idx_file = f'{H_FOLD}/{DATA_FOLD}/full_item2idx.dat'"
   ]
  },
  {
   "cell_type": "code",
   "execution_count": 5,
   "id": "6df7c415",
   "metadata": {},
   "outputs": [],
   "source": [
    "item_cnts = pickle.load(open(ic_file, 'rb'))\n",
    "itm_cnts_df = pd.DataFrame([item_cnts.keys(), item_cnts.values()]).T\n",
    "itm_cnts_df.columns=['item_id','cnt']"
   ]
  },
  {
   "cell_type": "code",
   "execution_count": 7,
   "id": "0c6e10ca",
   "metadata": {},
   "outputs": [],
   "source": [
    "# create hits file of popularity model\n",
    "\n",
    "test_file = f'{H_FOLD}/{DATA_FOLD}/test_raw.csv'\n",
    "test = pd.read_csv(test_file, names=['user','item'])\n",
    "itms_pop_rank = [int(itm) for itm in itm_cnts_df.sort_values(by='cnt', ascending=False)['item_id'].tolist()[:k]]\n",
    "\n",
    "hits = 0\n",
    "\n",
    "test['pred_loc'] = 0\n",
    "test['hit'] = test.apply(lambda row: 1 if row['item'] in itms_pop_rank else 0 , axis=1)\n",
    "test.to_csv(f'{H_FOLD}/output/pop_model_hr_{k}.csv', index=False)"
   ]
  },
  {
   "cell_type": "code",
   "execution_count": 8,
   "id": "a23f94ae",
   "metadata": {},
   "outputs": [],
   "source": [
    "cnts_sorted = itm_cnts_df.sort_values(by=['cnt'],ascending=False)['cnt'].tolist()"
   ]
  },
  {
   "cell_type": "code",
   "execution_count": 9,
   "id": "60638e9e",
   "metadata": {},
   "outputs": [],
   "source": [
    "items_sorted = [int(item) for item in itm_cnts_df.sort_values(by=['cnt'],ascending=False)['item_id'].tolist()[:-2]]"
   ]
  },
  {
   "cell_type": "code",
   "execution_count": 10,
   "id": "64d5be7f",
   "metadata": {},
   "outputs": [],
   "source": [
    "binned_items = [items_sorted[:i+10] for i in range(0, len(items_sorted), 10)]"
   ]
  },
  {
   "cell_type": "code",
   "execution_count": 11,
   "id": "7ea361ca",
   "metadata": {},
   "outputs": [],
   "source": [
    "binned_items.insert(0, [])"
   ]
  },
  {
   "cell_type": "code",
   "execution_count": 20,
   "id": "53318b87",
   "metadata": {},
   "outputs": [],
   "source": [
    "hits_bpr = pd.read_csv( f'{H_FOLD}/{BPR_OUT_FOLD}/hr_{k}.csv', usecols=[0,1,2,3], skiprows=1, names=['user','item','pred_loc','hit'])"
   ]
  },
  {
   "cell_type": "code",
   "execution_count": 21,
   "id": "535bdb95",
   "metadata": {},
   "outputs": [
    {
     "data": {
      "text/html": [
       "<div>\n",
       "<style scoped>\n",
       "    .dataframe tbody tr th:only-of-type {\n",
       "        vertical-align: middle;\n",
       "    }\n",
       "\n",
       "    .dataframe tbody tr th {\n",
       "        vertical-align: top;\n",
       "    }\n",
       "\n",
       "    .dataframe thead th {\n",
       "        text-align: right;\n",
       "    }\n",
       "</style>\n",
       "<table border=\"1\" class=\"dataframe\">\n",
       "  <thead>\n",
       "    <tr style=\"text-align: right;\">\n",
       "      <th></th>\n",
       "      <th>user</th>\n",
       "      <th>item</th>\n",
       "      <th>pred_loc</th>\n",
       "      <th>hit</th>\n",
       "    </tr>\n",
       "  </thead>\n",
       "  <tbody>\n",
       "    <tr>\n",
       "      <th>0</th>\n",
       "      <td>7200294</td>\n",
       "      <td>31384</td>\n",
       "      <td>194</td>\n",
       "      <td>0</td>\n",
       "    </tr>\n",
       "    <tr>\n",
       "      <th>1</th>\n",
       "      <td>250258</td>\n",
       "      <td>1513797</td>\n",
       "      <td>398</td>\n",
       "      <td>0</td>\n",
       "    </tr>\n",
       "    <tr>\n",
       "      <th>2</th>\n",
       "      <td>6740132</td>\n",
       "      <td>1246004</td>\n",
       "      <td>515</td>\n",
       "      <td>0</td>\n",
       "    </tr>\n",
       "    <tr>\n",
       "      <th>3</th>\n",
       "      <td>6811038</td>\n",
       "      <td>1269033</td>\n",
       "      <td>470</td>\n",
       "      <td>0</td>\n",
       "    </tr>\n",
       "    <tr>\n",
       "      <th>4</th>\n",
       "      <td>5443003</td>\n",
       "      <td>170962</td>\n",
       "      <td>613</td>\n",
       "      <td>0</td>\n",
       "    </tr>\n",
       "    <tr>\n",
       "      <th>...</th>\n",
       "      <td>...</td>\n",
       "      <td>...</td>\n",
       "      <td>...</td>\n",
       "      <td>...</td>\n",
       "    </tr>\n",
       "    <tr>\n",
       "      <th>31197</th>\n",
       "      <td>4333704</td>\n",
       "      <td>2316175</td>\n",
       "      <td>358</td>\n",
       "      <td>0</td>\n",
       "    </tr>\n",
       "    <tr>\n",
       "      <th>31198</th>\n",
       "      <td>4333844</td>\n",
       "      <td>202691</td>\n",
       "      <td>1833</td>\n",
       "      <td>0</td>\n",
       "    </tr>\n",
       "    <tr>\n",
       "      <th>31199</th>\n",
       "      <td>4335921</td>\n",
       "      <td>1071029</td>\n",
       "      <td>304</td>\n",
       "      <td>0</td>\n",
       "    </tr>\n",
       "    <tr>\n",
       "      <th>31200</th>\n",
       "      <td>4336163</td>\n",
       "      <td>174080</td>\n",
       "      <td>1413</td>\n",
       "      <td>0</td>\n",
       "    </tr>\n",
       "    <tr>\n",
       "      <th>31201</th>\n",
       "      <td>8026144</td>\n",
       "      <td>511720</td>\n",
       "      <td>1723</td>\n",
       "      <td>0</td>\n",
       "    </tr>\n",
       "  </tbody>\n",
       "</table>\n",
       "<p>31202 rows × 4 columns</p>\n",
       "</div>"
      ],
      "text/plain": [
       "          user     item  pred_loc  hit\n",
       "0      7200294    31384       194    0\n",
       "1       250258  1513797       398    0\n",
       "2      6740132  1246004       515    0\n",
       "3      6811038  1269033       470    0\n",
       "4      5443003   170962       613    0\n",
       "...        ...      ...       ...  ...\n",
       "31197  4333704  2316175       358    0\n",
       "31198  4333844   202691      1833    0\n",
       "31199  4335921  1071029       304    0\n",
       "31200  4336163   174080      1413    0\n",
       "31201  8026144   511720      1723    0\n",
       "\n",
       "[31202 rows x 4 columns]"
      ]
     },
     "execution_count": 21,
     "metadata": {},
     "output_type": "execute_result"
    }
   ],
   "source": [
    "hits_bpr"
   ]
  },
  {
   "cell_type": "code",
   "execution_count": 22,
   "id": "3f891c63",
   "metadata": {},
   "outputs": [],
   "source": [
    "hits_lightgcn = pd.read_csv( f'{H_FOLD}/{LGCN_OUT_FOLD}/hr_{k}.csv', usecols=[0,1,2,3], skiprows=1, names=['user','item','pred_loc','hit'])"
   ]
  },
  {
   "cell_type": "code",
   "execution_count": 24,
   "id": "6312dbe7",
   "metadata": {},
   "outputs": [
    {
     "data": {
      "text/html": [
       "<div>\n",
       "<style scoped>\n",
       "    .dataframe tbody tr th:only-of-type {\n",
       "        vertical-align: middle;\n",
       "    }\n",
       "\n",
       "    .dataframe tbody tr th {\n",
       "        vertical-align: top;\n",
       "    }\n",
       "\n",
       "    .dataframe thead th {\n",
       "        text-align: right;\n",
       "    }\n",
       "</style>\n",
       "<table border=\"1\" class=\"dataframe\">\n",
       "  <thead>\n",
       "    <tr style=\"text-align: right;\">\n",
       "      <th></th>\n",
       "      <th>user</th>\n",
       "      <th>item</th>\n",
       "      <th>pred_loc</th>\n",
       "      <th>hit</th>\n",
       "    </tr>\n",
       "  </thead>\n",
       "  <tbody>\n",
       "    <tr>\n",
       "      <th>28075</th>\n",
       "      <td>7200294</td>\n",
       "      <td>31384</td>\n",
       "      <td>508</td>\n",
       "      <td>0</td>\n",
       "    </tr>\n",
       "  </tbody>\n",
       "</table>\n",
       "</div>"
      ],
      "text/plain": [
       "          user   item  pred_loc  hit\n",
       "28075  7200294  31384       508    0"
      ]
     },
     "execution_count": 24,
     "metadata": {},
     "output_type": "execute_result"
    }
   ],
   "source": [
    "hits_lightgcn[hits_lightgcn['user']==7200294]"
   ]
  },
  {
   "cell_type": "code",
   "execution_count": null,
   "id": "567f0b34",
   "metadata": {},
   "outputs": [],
   "source": [
    "hits_lightgcn = pd.read_csv( f'{H_FOLD}/{LGCN_OUT_FOLD}/hr_{k}.csv', usecols=[0,1,2,3], skiprows=1, names=['user','item','pred_loc','hit'])"
   ]
  },
  {
   "cell_type": "code",
   "execution_count": 35,
   "id": "8510d0b2",
   "metadata": {},
   "outputs": [
    {
     "data": {
      "text/plain": [
       "<matplotlib.legend.Legend at 0x20dbe423780>"
      ]
     },
     "execution_count": 35,
     "metadata": {},
     "output_type": "execute_result"
    },
    {
     "data": {
      "image/png": "[encoded data removed]",
      "text/plain": [
       "<Figure size 432x288 with 1 Axes>"
      ]
     },
     "metadata": {
      "needs_background": "light"
     },
     "output_type": "display_data"
    }
   ],
   "source": [
    "number_of_bins = 10\n",
    "for hits_file, label in zip([f'{H_FOLD}/{AI2V_OUT_FOLD}/hr_{k}.csv',\n",
    "                             f'{H_FOLD}/{I2V_OUT_FOLD}/hr_{k}.csv', \n",
    "                             f'{H_FOLD}/{LGCN_OUT_FOLD}/hr_{k}.csv',\n",
    "                             f'{H_FOLD}/{BPR_OUT_FOLD}/hr_{k}.csv',\n",
    "#                              f'{H_FOLD}/{NCF_OUT_FOLD}/hr_{k}.csv',\n",
    "                             f'{H_FOLD}/output/pop_model_hr_{k}.csv'],\n",
    "#                             ['ai2v','i2v','lightgcn','bpr','ncf','popularity']):\n",
    "                            ['ai2v','i2v','lightgcn','bpr','popularity']):\n",
    "    hits = pd.read_csv(hits_file, usecols=[0,1,2,3], skiprows=1, names=['user','item','pred_loc','hit'])\n",
    "    hit_ratios = []\n",
    "    for bin_ in binned_items[:number_of_bins]:\n",
    "        new_test = hits[~hits['item'].isin(bin_)]\n",
    "        if not new_test.empty:\n",
    "            hit_ratios.append(new_test[new_test['hit']==1].shape[0] / new_test.shape[0])\n",
    "        else:\n",
    "            hit_ratios.append(0)\n",
    "    plt.plot([i for i in list(range(number_of_bins))], hit_ratios,'-o', label=label)\n",
    "plt.xlabel('bin of popular items removed')\n",
    "plt.ylabel(f'hit@{k}')\n",
    "plt.title(f'{DATASET} - HR@{k} on per bin of popular items removed from test')\n",
    "plt.legend()"
   ]
  },
  {
   "cell_type": "markdown",
   "id": "7ffe9abe",
   "metadata": {},
   "source": [
    "# Attention Scores"
   ]
  },
  {
   "cell_type": "code",
   "execution_count": 287,
   "id": "02bfeec4",
   "metadata": {},
   "outputs": [],
   "source": [
    "hits_ai2v = pd.read_csv(f'{H_FOLD}/{AI2V_OUT_FOLD}/hr_{k}.csv', usecols=[0,1,2,3], skiprows=1, names=['user','item','pred_loc','hit'])"
   ]
  },
  {
   "cell_type": "code",
   "execution_count": 303,
   "id": "5d1e06cf",
   "metadata": {},
   "outputs": [
    {
     "data": {
      "text/html": [
       "<div>\n",
       "<style scoped>\n",
       "    .dataframe tbody tr th:only-of-type {\n",
       "        vertical-align: middle;\n",
       "    }\n",
       "\n",
       "    .dataframe tbody tr th {\n",
       "        vertical-align: top;\n",
       "    }\n",
       "\n",
       "    .dataframe thead th {\n",
       "        text-align: right;\n",
       "    }\n",
       "</style>\n",
       "<table border=\"1\" class=\"dataframe\">\n",
       "  <thead>\n",
       "    <tr style=\"text-align: right;\">\n",
       "      <th></th>\n",
       "      <th>user</th>\n",
       "      <th>item</th>\n",
       "      <th>pred_loc</th>\n",
       "      <th>hit</th>\n",
       "    </tr>\n",
       "  </thead>\n",
       "  <tbody>\n",
       "    <tr>\n",
       "      <th>26</th>\n",
       "      <td>27</td>\n",
       "      <td>1204</td>\n",
       "      <td>11.0</td>\n",
       "      <td>1</td>\n",
       "    </tr>\n",
       "    <tr>\n",
       "      <th>38</th>\n",
       "      <td>39</td>\n",
       "      <td>3114</td>\n",
       "      <td>8.0</td>\n",
       "      <td>1</td>\n",
       "    </tr>\n",
       "    <tr>\n",
       "      <th>42</th>\n",
       "      <td>43</td>\n",
       "      <td>3114</td>\n",
       "      <td>17.0</td>\n",
       "      <td>1</td>\n",
       "    </tr>\n",
       "    <tr>\n",
       "      <th>45</th>\n",
       "      <td>46</td>\n",
       "      <td>1261</td>\n",
       "      <td>19.0</td>\n",
       "      <td>1</td>\n",
       "    </tr>\n",
       "    <tr>\n",
       "      <th>53</th>\n",
       "      <td>55</td>\n",
       "      <td>356</td>\n",
       "      <td>19.0</td>\n",
       "      <td>1</td>\n",
       "    </tr>\n",
       "    <tr>\n",
       "      <th>...</th>\n",
       "      <td>...</td>\n",
       "      <td>...</td>\n",
       "      <td>...</td>\n",
       "      <td>...</td>\n",
       "    </tr>\n",
       "    <tr>\n",
       "      <th>1132</th>\n",
       "      <td>1185</td>\n",
       "      <td>318</td>\n",
       "      <td>6.0</td>\n",
       "      <td>1</td>\n",
       "    </tr>\n",
       "    <tr>\n",
       "      <th>1144</th>\n",
       "      <td>1198</td>\n",
       "      <td>1198</td>\n",
       "      <td>8.0</td>\n",
       "      <td>1</td>\n",
       "    </tr>\n",
       "    <tr>\n",
       "      <th>1147</th>\n",
       "      <td>1201</td>\n",
       "      <td>1617</td>\n",
       "      <td>17.0</td>\n",
       "      <td>1</td>\n",
       "    </tr>\n",
       "    <tr>\n",
       "      <th>1159</th>\n",
       "      <td>1213</td>\n",
       "      <td>1219</td>\n",
       "      <td>8.0</td>\n",
       "      <td>1</td>\n",
       "    </tr>\n",
       "    <tr>\n",
       "      <th>1163</th>\n",
       "      <td>1218</td>\n",
       "      <td>1276</td>\n",
       "      <td>20.0</td>\n",
       "      <td>1</td>\n",
       "    </tr>\n",
       "  </tbody>\n",
       "</table>\n",
       "<p>100 rows × 4 columns</p>\n",
       "</div>"
      ],
      "text/plain": [
       "      user  item  pred_loc  hit\n",
       "26      27  1204      11.0    1\n",
       "38      39  3114       8.0    1\n",
       "42      43  3114      17.0    1\n",
       "45      46  1261      19.0    1\n",
       "53      55   356      19.0    1\n",
       "...    ...   ...       ...  ...\n",
       "1132  1185   318       6.0    1\n",
       "1144  1198  1198       8.0    1\n",
       "1147  1201  1617      17.0    1\n",
       "1159  1213  1219       8.0    1\n",
       "1163  1218  1276      20.0    1\n",
       "\n",
       "[100 rows x 4 columns]"
      ]
     },
     "execution_count": 303,
     "metadata": {},
     "output_type": "execute_result"
    }
   ],
   "source": [
    "hits_ai2v[hits_ai2v['hit']==1].head(100)"
   ]
  },
  {
   "cell_type": "code",
   "execution_count": 245,
   "id": "f1f6a308",
   "metadata": {},
   "outputs": [],
   "source": [
    "test_data = pickle.load(open(f'{H_FOLD}/{DATA_FOLD}/test.dat','rb'))\n",
    "item2idx = pickle.load(open(f'{H_FOLD}/{DATA_FOLD}/item2idx.dat','rb'))\n",
    "idx2item = {v:k for k,v in item2idx.items()}\n",
    "test_orig = []\n",
    "for tup in test_data:\n",
    "    target = int(idx2item[tup[1]])\n",
    "    context = [int(idx2item[idx]) for idx in tup[0]]\n",
    "    test_orig.append((context, target))\n",
    "movies = pd.read_csv(f'{H_FOLD}/{DATA_FOLD}/movies.csv')\n",
    "movies_test = []\n",
    "for tup in test_orig:\n",
    "    target = movies.loc[movies['id']==tup[1],'name'].values[0]\n",
    "    context = [movies.loc[movies['id']==idx,'name'].values[0] \n",
    "              for idx in tup[0]]\n",
    "    movies_test.append((context, target))"
   ]
  },
  {
   "cell_type": "code",
   "execution_count": 247,
   "id": "b7d6468f",
   "metadata": {},
   "outputs": [],
   "source": [
    "attention_score = pickle.load(open(f'{H_FOLD}/{AI2V_OUT_FOLD}/attention_scores.pkl','rb'))"
   ]
  },
  {
   "cell_type": "code",
   "execution_count": null,
   "id": "3035c389",
   "metadata": {},
   "outputs": [],
   "source": [
    "53"
   ]
  },
  {
   "cell_type": "code",
   "execution_count": 305,
   "id": "24d58bae",
   "metadata": {},
   "outputs": [
    {
     "data": {
      "image/png": "[encoded data removed]",
      "text/plain": [
       "<Figure size 1296x144 with 2 Axes>"
      ]
     },
     "metadata": {
      "needs_background": "light"
     },
     "output_type": "display_data"
    }
   ],
   "source": [
    "# plt.imshow(arr)\n",
    "sample = 53\n",
    "data = np.expand_dims(attention_score[sample], axis=0)\n",
    "labels = movies_test[sample][0]\n",
    "target = movies_test[sample][1]\n",
    "\n",
    "\n",
    "cmap = plt.cm.summer\n",
    "norm = plt.Normalize(data.min(), data.max())\n",
    "rgba = cmap(norm(data))\n",
    "\n",
    "fig, ax = plt.subplots(figsize=(18, 2))\n",
    "ax.imshow(rgba, interpolation='nearest')\n",
    "\n",
    "im = ax.imshow(data, visible=False, cmap=cmap)\n",
    "\n",
    "ax.set_xticks(list(range(data.shape[1])))\n",
    "\n",
    "ax.set_xticklabels(labels, rotation = 90)\n",
    "\n",
    "for i in range(data.shape[1]):\n",
    "    text = ax.text(i, 0, round(data[0, i],3),\n",
    "                       ha=\"center\", va=\"center\")\n",
    "\n",
    "fig.colorbar(im)\n",
    "plt.title(f'Attention scores for {target}')\n",
    "plt.show()"
   ]
  },
  {
   "cell_type": "code",
   "execution_count": 263,
   "id": "902e79ce",
   "metadata": {},
   "outputs": [
    {
     "data": {
      "text/plain": [
       "Text(0.5, 1.0, 'Attention scores for Pocahontas (1995)')"
      ]
     },
     "execution_count": 263,
     "metadata": {},
     "output_type": "execute_result"
    },
    {
     "data": {
      "image/png": "[encoded data removed]",
      "text/plain": [
       "<Figure size 144x720 with 2 Axes>"
      ]
     },
     "metadata": {
      "needs_background": "light"
     },
     "output_type": "display_data"
    }
   ],
   "source": [
    "# plt.imshow(arr)\n",
    "data = np.expand_dims(attention_score[0], axis=1)\n",
    "labels = movies_test[0][0]\n",
    "target = movies_test[0][1]\n",
    "\n",
    "\n",
    "cmap = plt.cm.gray\n",
    "norm = plt.Normalize(data.min(), data.max())\n",
    "rgba = cmap(norm(data))\n",
    "\n",
    "fig, ax = plt.subplots(figsize=(2, 10))\n",
    "ax.imshow(rgba, interpolation='nearest')\n",
    "\n",
    "im = ax.imshow(data, visible=False, cmap=cmap)\n",
    "\n",
    "ax.set_yticks(list(range(data.shape[0])))\n",
    "\n",
    "ax.set_yticklabels(labels)\n",
    "\n",
    "fig.colorbar(im)\n",
    "plt.title(f'Attention scores for {target}')"
   ]
  }
 ],
 "metadata": {
  "kernelspec": {
   "display_name": "Python 3",
   "language": "python",
   "name": "python3"
  },
  "language_info": {
   "codemirror_mode": {
    "name": "ipython",
    "version": 3
   },
   "file_extension": ".py",
   "mimetype": "text/x-python",
   "name": "python",
   "nbconvert_exporter": "python",
   "pygments_lexer": "ipython3",
   "version": "3.7.3"
  }
 },
 "nbformat": 4,
 "nbformat_minor": 5
}
